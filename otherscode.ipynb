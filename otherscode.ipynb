{
 "cells": [
  {
   "cell_type": "code",
   "execution_count": 1,
   "id": "5f13f1f6-3c37-47a9-82e2-f1b3894dc935",
   "metadata": {},
   "outputs": [],
   "source": [
    "import numpy as np\n",
    "import pandas as pd\n",
    "from bs4 import BeautifulSoup\n",
    "import re\n",
    "import nltk\n",
    "import os\n",
    "from sklearn.model_selection import train_test_split\n",
    "import tensorflow as tf\n",
    "from tensorflow.keras import callbacks, models, layers\n",
    "import matplotlib.pyplot as plt\n",
    "from tensorflow.keras.preprocessing.text import Tokenizer\n",
    "from tensorflow.keras.preprocessing.sequence import pad_sequences\n",
    "from nltk.corpus import stopwords\n",
    "# bag of words"
   ]
  },
  {
   "cell_type": "code",
   "execution_count": 2,
   "id": "63d8e4e2-c61b-4feb-b9a8-26274e96e208",
   "metadata": {},
   "outputs": [],
   "source": [
    "BASE = '/kaggle/input/word2vec-nlp-tutorial'\n",
    "MAX_WORDS = 25_000"
   ]
  },
  {
   "cell_type": "code",
   "execution_count": 3,
   "id": "27a1f1ba-c013-45e0-9d0e-aaf2780d084a",
   "metadata": {},
   "outputs": [],
   "source": [
    "train = pd.read_csv(\"data/labeledTrainData.tsv\", header=0, delimiter=\"\\t\", quoting=3)\n",
    "test = pd.read_csv(\"data/testData.tsv\", header=0, delimiter=\"\\t\", quoting=3)"
   ]
  },
  {
   "cell_type": "code",
   "execution_count": 4,
   "id": "ae267ae8-e955-4c2c-8312-24fc6e8ffa46",
   "metadata": {},
   "outputs": [
    {
     "data": {
      "text/plain": [
       "(25000, 3)"
      ]
     },
     "execution_count": 4,
     "metadata": {},
     "output_type": "execute_result"
    }
   ],
   "source": [
    "#train = pd.read_csv(os.path.join(BASE,'labeledTrainData.tsv.zip'), header=0, delimiter=\"\\t\", quoting=3)\n",
    "train.shape"
   ]
  },
  {
   "cell_type": "code",
   "execution_count": 5,
   "id": "fe9044ab-f5e9-4de8-b45e-eea90c30ebec",
   "metadata": {},
   "outputs": [
    {
     "data": {
      "text/plain": [
       "(25000, 2)"
      ]
     },
     "execution_count": 5,
     "metadata": {},
     "output_type": "execute_result"
    }
   ],
   "source": [
    "#test = pd.read_csv(os.path.join(BASE,'testData.tsv.zip'), header=0, delimiter=\"\\t\", quoting=3)\n",
    "test.shape"
   ]
  },
  {
   "cell_type": "code",
   "execution_count": 6,
   "id": "758b8e3a-fac3-4826-94c2-7ff52cd6e709",
   "metadata": {},
   "outputs": [
    {
     "name": "stdout",
     "output_type": "stream",
     "text": [
      "1\n"
     ]
    },
    {
     "data": {
      "text/plain": [
       "'\"With all this stuff going down at the moment with MJ i\\'ve started listening to his music, watching the odd documentary here and there, watched The Wiz and watched Moonwalker again. Maybe i just want to get a certain insight into this guy who i thought was really cool in the eighties just to maybe make up my mind whether he is guilty or innocent. Moonwalker is part biography, part feature film which i remember going to see at the cinema when it was originally released. Some of it has subtle messages about MJ\\'s feeling towards the press and also the obvious message of drugs are bad m\\'kay.<br /><br />Visually impressive but of course this is all about Michael Jackson so unless you remotely like MJ in anyway then you are going to hate this and find it boring. Some may call MJ an egotist for consenting to the making of this movie BUT MJ and most of his fans would say that he made it for the fans which if true is really nice of him.<br /><br />The actual feature film bit when it finally starts is only on for 20 minutes or so excluding the Smooth Criminal sequence and Joe Pesci is convincing as a psychopathic all powerful drug lord. Why he wants MJ dead so bad is beyond me. Because MJ overheard his plans? Nah, Joe Pesci\\'s character ranted that he wanted people to know it is he who is supplying drugs etc so i dunno, maybe he just hates MJ\\'s music.<br /><br />Lots of cool things in this like MJ turning into a car and a robot and the whole Speed Demon sequence. Also, the director must have had the patience of a saint when it came to filming the kiddy Bad sequence as usually directors hate working with one kid let alone a whole bunch of them performing a complex dance scene.<br /><br />Bottom line, this movie is for people who like MJ on one level or another (which i think is most people). If not, then stay away. It does try and give off a wholesome message and ironically MJ\\'s bestest buddy in this movie is a girl! Michael Jackson is truly one of the most talented people ever to grace this planet but is he guilty? Well, with all the attention i\\'ve gave this subject....hmmm well i don\\'t know because people can be different behind closed doors, i know this for a fact. He is either an extremely nice but stupid guy or one of the most sickest liars. I hope he is not the latter.\"'"
      ]
     },
     "execution_count": 6,
     "metadata": {},
     "output_type": "execute_result"
    }
   ],
   "source": [
    "print(train[\"sentiment\"][0])\n",
    "train[\"review\"][0]"
   ]
  },
  {
   "cell_type": "code",
   "execution_count": 7,
   "id": "724cf3f8-daaf-4f98-8c7e-5688cbd1e0b6",
   "metadata": {},
   "outputs": [
    {
     "name": "stderr",
     "output_type": "stream",
     "text": [
      "E:\\anaconda_neve\\envs\\amls2\\lib\\site-packages\\bs4\\__init__.py:439: MarkupResemblesLocatorWarning: The input looks more like a filename than markup. You may want to open this file and pass the filehandle into Beautiful Soup.\n",
      "  MarkupResemblesLocatorWarning\n"
     ]
    },
    {
     "data": {
      "text/html": [
       "<div>\n",
       "<style scoped>\n",
       "    .dataframe tbody tr th:only-of-type {\n",
       "        vertical-align: middle;\n",
       "    }\n",
       "\n",
       "    .dataframe tbody tr th {\n",
       "        vertical-align: top;\n",
       "    }\n",
       "\n",
       "    .dataframe thead th {\n",
       "        text-align: right;\n",
       "    }\n",
       "</style>\n",
       "<table border=\"1\" class=\"dataframe\">\n",
       "  <thead>\n",
       "    <tr style=\"text-align: right;\">\n",
       "      <th></th>\n",
       "      <th>id</th>\n",
       "      <th>sentiment</th>\n",
       "      <th>review</th>\n",
       "      <th>cleaned_review</th>\n",
       "    </tr>\n",
       "  </thead>\n",
       "  <tbody>\n",
       "    <tr>\n",
       "      <th>0</th>\n",
       "      <td>\"5814_8\"</td>\n",
       "      <td>1</td>\n",
       "      <td>\"With all this stuff going down at the moment ...</td>\n",
       "      <td>stuff going moment mj started listening music ...</td>\n",
       "    </tr>\n",
       "    <tr>\n",
       "      <th>1</th>\n",
       "      <td>\"2381_9\"</td>\n",
       "      <td>1</td>\n",
       "      <td>\"\\\"The Classic War of the Worlds\\\" by Timothy ...</td>\n",
       "      <td>classic war worlds timothy hines entertaining ...</td>\n",
       "    </tr>\n",
       "    <tr>\n",
       "      <th>2</th>\n",
       "      <td>\"7759_3\"</td>\n",
       "      <td>0</td>\n",
       "      <td>\"The film starts with a manager (Nicholas Bell...</td>\n",
       "      <td>film starts manager nicholas bell giving welco...</td>\n",
       "    </tr>\n",
       "    <tr>\n",
       "      <th>3</th>\n",
       "      <td>\"3630_4\"</td>\n",
       "      <td>0</td>\n",
       "      <td>\"It must be assumed that those who praised thi...</td>\n",
       "      <td>must assumed praised film greatest filmed oper...</td>\n",
       "    </tr>\n",
       "    <tr>\n",
       "      <th>4</th>\n",
       "      <td>\"9495_8\"</td>\n",
       "      <td>1</td>\n",
       "      <td>\"Superbly trashy and wondrously unpretentious ...</td>\n",
       "      <td>superbly trashy wondrously unpretentious explo...</td>\n",
       "    </tr>\n",
       "    <tr>\n",
       "      <th>...</th>\n",
       "      <td>...</td>\n",
       "      <td>...</td>\n",
       "      <td>...</td>\n",
       "      <td>...</td>\n",
       "    </tr>\n",
       "    <tr>\n",
       "      <th>24995</th>\n",
       "      <td>\"3453_3\"</td>\n",
       "      <td>0</td>\n",
       "      <td>\"It seems like more consideration has gone int...</td>\n",
       "      <td>seems like consideration gone imdb reviews fil...</td>\n",
       "    </tr>\n",
       "    <tr>\n",
       "      <th>24996</th>\n",
       "      <td>\"5064_1\"</td>\n",
       "      <td>0</td>\n",
       "      <td>\"I don't believe they made this film. Complete...</td>\n",
       "      <td>believe made film completely unnecessary first...</td>\n",
       "    </tr>\n",
       "    <tr>\n",
       "      <th>24997</th>\n",
       "      <td>\"10905_3\"</td>\n",
       "      <td>0</td>\n",
       "      <td>\"Guy is a loser. Can't get girls, needs to bui...</td>\n",
       "      <td>guy loser get girls needs build picked stronge...</td>\n",
       "    </tr>\n",
       "    <tr>\n",
       "      <th>24998</th>\n",
       "      <td>\"10194_3\"</td>\n",
       "      <td>0</td>\n",
       "      <td>\"This 30 minute documentary Buñuel made in the...</td>\n",
       "      <td>minute documentary bu uel made early one spain...</td>\n",
       "    </tr>\n",
       "    <tr>\n",
       "      <th>24999</th>\n",
       "      <td>\"8478_8\"</td>\n",
       "      <td>1</td>\n",
       "      <td>\"I saw this movie as a child and it broke my h...</td>\n",
       "      <td>saw movie child broke heart story unfinished e...</td>\n",
       "    </tr>\n",
       "  </tbody>\n",
       "</table>\n",
       "<p>25000 rows × 4 columns</p>\n",
       "</div>"
      ],
      "text/plain": [
       "              id  sentiment  \\\n",
       "0       \"5814_8\"          1   \n",
       "1       \"2381_9\"          1   \n",
       "2       \"7759_3\"          0   \n",
       "3       \"3630_4\"          0   \n",
       "4       \"9495_8\"          1   \n",
       "...          ...        ...   \n",
       "24995   \"3453_3\"          0   \n",
       "24996   \"5064_1\"          0   \n",
       "24997  \"10905_3\"          0   \n",
       "24998  \"10194_3\"          0   \n",
       "24999   \"8478_8\"          1   \n",
       "\n",
       "                                                  review  \\\n",
       "0      \"With all this stuff going down at the moment ...   \n",
       "1      \"\\\"The Classic War of the Worlds\\\" by Timothy ...   \n",
       "2      \"The film starts with a manager (Nicholas Bell...   \n",
       "3      \"It must be assumed that those who praised thi...   \n",
       "4      \"Superbly trashy and wondrously unpretentious ...   \n",
       "...                                                  ...   \n",
       "24995  \"It seems like more consideration has gone int...   \n",
       "24996  \"I don't believe they made this film. Complete...   \n",
       "24997  \"Guy is a loser. Can't get girls, needs to bui...   \n",
       "24998  \"This 30 minute documentary Buñuel made in the...   \n",
       "24999  \"I saw this movie as a child and it broke my h...   \n",
       "\n",
       "                                          cleaned_review  \n",
       "0      stuff going moment mj started listening music ...  \n",
       "1      classic war worlds timothy hines entertaining ...  \n",
       "2      film starts manager nicholas bell giving welco...  \n",
       "3      must assumed praised film greatest filmed oper...  \n",
       "4      superbly trashy wondrously unpretentious explo...  \n",
       "...                                                  ...  \n",
       "24995  seems like consideration gone imdb reviews fil...  \n",
       "24996  believe made film completely unnecessary first...  \n",
       "24997  guy loser get girls needs build picked stronge...  \n",
       "24998  minute documentary bu uel made early one spain...  \n",
       "24999  saw movie child broke heart story unfinished e...  \n",
       "\n",
       "[25000 rows x 4 columns]"
      ]
     },
     "execution_count": 7,
     "metadata": {},
     "output_type": "execute_result"
    }
   ],
   "source": [
    "stop_words = stopwords.words(\"english\")\n",
    "def clean(review):\n",
    "    clean_html = BeautifulSoup(review).get_text()\n",
    "    clean_non_letters = re.sub(\"[^a-zA-Z]\", \" \", clean_html)\n",
    "    cleaned_lowercase = clean_non_letters.lower()\n",
    "    words = cleaned_lowercase.split()\n",
    "    cleaned_words = [w for w in words if w not in stop_words]\n",
    "    return \" \".join(cleaned_words)\n",
    "\n",
    "train[\"cleaned_review\"] = train[\"review\"].apply(clean)\n",
    "train"
   ]
  },
  {
   "cell_type": "code",
   "execution_count": 8,
   "id": "abda133d-4d1b-4115-bc86-33d1114902e8",
   "metadata": {},
   "outputs": [
    {
     "data": {
      "text/plain": [
       "74066"
      ]
     },
     "execution_count": 8,
     "metadata": {},
     "output_type": "execute_result"
    }
   ],
   "source": [
    "# with no constraints there are 74_066 words in the training set\n",
    "#在没有约束的情况下，训练集中有74_066个单词\n",
    "#num_words 根据词频保留的最大词数。只会保留 最常用的单词。num_words-1 这里保留了25000单词\n",
    "tokenizer = Tokenizer(num_words=MAX_WORDS) \n",
    "tokenizer.fit_on_texts(train.cleaned_review)\n",
    "total_words = len(tokenizer.word_index) + 1\n",
    "total_words"
   ]
  },
  {
   "cell_type": "code",
   "execution_count": 9,
   "id": "fa84465d-4de7-4b48-b1d4-c09a55f6f4b1",
   "metadata": {},
   "outputs": [
    {
     "name": "stdout",
     "output_type": "stream",
     "text": [
      "(20000, 1322) (20000,) (5000, 1322) (5000,)\n"
     ]
    }
   ],
   "source": [
    "sequences = tokenizer.texts_to_sequences(train.cleaned_review)\n",
    "max_sequence_len = max([len(x) for x in sequences])\n",
    "padded_sequences = np.array(pad_sequences(sequences, maxlen=max_sequence_len, padding='pre'))\n",
    "labels = np.array(train.sentiment)\n",
    "X_train, X_val, y_train, y_val = train_test_split(padded_sequences, labels, test_size=0.2, random_state=0)\n",
    "print(X_train.shape, y_train.shape, X_val.shape, y_val.shape)"
   ]
  },
  {
   "cell_type": "code",
   "execution_count": 10,
   "id": "73888594-0382-4526-a720-750b21a9317a",
   "metadata": {},
   "outputs": [],
   "source": [
    "def to_dataset(data, labels):\n",
    "    dataset = tf.data.Dataset.from_tensor_slices((data, labels))\n",
    "    dataset = dataset.cache().shuffle(X_train.shape[0] + 1).batch(32).prefetch(tf.data.experimental.AUTOTUNE)\n",
    "    return dataset\n",
    "train_ds = to_dataset(X_train, y_train)\n",
    "val_ds = to_dataset(X_val, y_val)"
   ]
  },
  {
   "cell_type": "code",
   "execution_count": 11,
   "id": "3a4274fa-96a1-410b-9df3-37fa16a4867d",
   "metadata": {},
   "outputs": [],
   "source": [
    "LSTM_SIZE = 8\n",
    "def bi_lstm_model():\n",
    "    model = models.Sequential()\n",
    "    model.add(layers.Embedding(total_words, 16, input_length=max_sequence_len - 1))\n",
    "    model.add(layers.Bidirectional(layers.LSTM(LSTM_SIZE))) #RNN 的双向包装器。\n",
    "    model.add(layers.Dense(1, activation='sigmoid'))\n",
    "    model.compile(loss='binary_crossentropy', optimizer='adam', metrics=['binary_accuracy'])\n",
    "    return model, f'bidirectional_lstm_{LSTM_SIZE}'\n",
    "\n",
    "def lstm_model(): #没双向包装器的LSTM\n",
    "    model = models.Sequential()\n",
    "    model.add(layers.Embedding(total_words, 4, input_length=max_sequence_len - 1))\n",
    "    model.add(layers.LSTM(LSTM_SIZE))\n",
    "    model.add(layers.Dense(1, activation='sigmoid'))\n",
    "    model.compile(loss='binary_crossentropy', optimizer='adam', metrics=['binary_accuracy'])\n",
    "    return model, f'lstm_{LSTM_SIZE}'"
   ]
  },
  {
   "cell_type": "code",
   "execution_count": 12,
   "id": "beb66686-771a-41fa-b9f8-045d4b44913f",
   "metadata": {},
   "outputs": [],
   "source": [
    "def tokenizer_train(model, name):\n",
    "    reducer = callbacks.ReduceLROnPlateau(monior='val_loss', factor=0.5, patience=3, mode='min', cooldown=1)\n",
    "    stopper = callbacks.EarlyStopping(monitor='val_loss', patience=6, mode='min', restore_best_weights=True)#本身为True\n",
    "    hist = model.fit(train_ds,\n",
    "              epochs=100,\n",
    "              verbose=1,\n",
    "              callbacks=[reducer,stopper],\n",
    "              validation_data=val_ds)\n",
    "    results = model.evaluate(val_ds)\n",
    "    model.save(f'/kaggle/working/{name}')\n",
    "    print(f\"results: {results}, type: {type(results)}\")\n",
    "    return hist"
   ]
  },
  {
   "cell_type": "code",
   "execution_count": 13,
   "id": "6d827fe8-8f94-4303-b4bb-8b65a414ec9a",
   "metadata": {},
   "outputs": [
    {
     "name": "stdout",
     "output_type": "stream",
     "text": [
      "Model: \"sequential\"\n",
      "_________________________________________________________________\n",
      "Layer (type)                 Output Shape              Param #   \n",
      "=================================================================\n",
      "embedding (Embedding)        (None, 1321, 16)          1185056   \n",
      "_________________________________________________________________\n",
      "bidirectional (Bidirectional (None, 16)                1600      \n",
      "_________________________________________________________________\n",
      "dense (Dense)                (None, 1)                 17        \n",
      "=================================================================\n",
      "Total params: 1,186,673\n",
      "Trainable params: 1,186,673\n",
      "Non-trainable params: 0\n",
      "_________________________________________________________________\n"
     ]
    }
   ],
   "source": [
    "model, name = bi_lstm_model()\n",
    "model.summary()"
   ]
  },
  {
   "cell_type": "code",
   "execution_count": 14,
   "id": "0bc9223d-7a45-4c5c-afcd-1f678a3304a5",
   "metadata": {},
   "outputs": [
    {
     "name": "stdout",
     "output_type": "stream",
     "text": [
      "Epoch 1/100\n",
      "WARNING:tensorflow:Model was constructed with shape (None, 1321) for input KerasTensor(type_spec=TensorSpec(shape=(None, 1321), dtype=tf.float32, name='embedding_input'), name='embedding_input', description=\"created by layer 'embedding_input'\"), but it was called on an input with incompatible shape (None, 1322).\n",
      "WARNING:tensorflow:Model was constructed with shape (None, 1321) for input KerasTensor(type_spec=TensorSpec(shape=(None, 1321), dtype=tf.float32, name='embedding_input'), name='embedding_input', description=\"created by layer 'embedding_input'\"), but it was called on an input with incompatible shape (None, 1322).\n",
      "625/625 [==============================] - ETA: 0s - loss: 0.4228 - binary_accuracy: 0.8080WARNING:tensorflow:Model was constructed with shape (None, 1321) for input KerasTensor(type_spec=TensorSpec(shape=(None, 1321), dtype=tf.float32, name='embedding_input'), name='embedding_input', description=\"created by layer 'embedding_input'\"), but it was called on an input with incompatible shape (None, 1322).\n",
      "625/625 [==============================] - 54s 81ms/step - loss: 0.4228 - binary_accuracy: 0.8080 - val_loss: 0.3241 - val_binary_accuracy: 0.8728\n",
      "Epoch 2/100\n",
      "625/625 [==============================] - 51s 81ms/step - loss: 0.2027 - binary_accuracy: 0.9321 - val_loss: 0.3001 - val_binary_accuracy: 0.8872\n",
      "Epoch 3/100\n",
      "625/625 [==============================] - 51s 81ms/step - loss: 0.1259 - binary_accuracy: 0.9604 - val_loss: 0.3337 - val_binary_accuracy: 0.8738\n",
      "Epoch 4/100\n",
      "625/625 [==============================] - 50s 80ms/step - loss: 0.0771 - binary_accuracy: 0.9777 - val_loss: 0.3791 - val_binary_accuracy: 0.8740\n",
      "Epoch 5/100\n",
      "625/625 [==============================] - 51s 81ms/step - loss: 0.0515 - binary_accuracy: 0.9869 - val_loss: 0.4217 - val_binary_accuracy: 0.8706\n",
      "Epoch 6/100\n",
      "625/625 [==============================] - 52s 83ms/step - loss: 0.0320 - binary_accuracy: 0.9934 - val_loss: 0.4595 - val_binary_accuracy: 0.8714\n",
      "Epoch 7/100\n",
      "625/625 [==============================] - 52s 83ms/step - loss: 0.0211 - binary_accuracy: 0.9963 - val_loss: 0.5065 - val_binary_accuracy: 0.8710\n",
      "Epoch 8/100\n",
      "625/625 [==============================] - 50s 80ms/step - loss: 0.0162 - binary_accuracy: 0.9974 - val_loss: 0.5220 - val_binary_accuracy: 0.8696\n",
      "157/157 [==============================] - 5s 34ms/step - loss: 0.3001 - binary_accuracy: 0.8872\n"
     ]
    },
    {
     "name": "stderr",
     "output_type": "stream",
     "text": [
      "WARNING:absl:Found untraced functions such as lstm_cell_1_layer_call_fn, lstm_cell_1_layer_call_and_return_conditional_losses, lstm_cell_2_layer_call_fn, lstm_cell_2_layer_call_and_return_conditional_losses, lstm_cell_1_layer_call_fn while saving (showing 5 of 10). These functions will not be directly callable after loading.\n"
     ]
    },
    {
     "name": "stdout",
     "output_type": "stream",
     "text": [
      "INFO:tensorflow:Assets written to: /kaggle/working/bidirectional_lstm_8\\assets\n"
     ]
    },
    {
     "name": "stderr",
     "output_type": "stream",
     "text": [
      "INFO:tensorflow:Assets written to: /kaggle/working/bidirectional_lstm_8\\assets\n"
     ]
    },
    {
     "name": "stdout",
     "output_type": "stream",
     "text": [
      "results: [0.30013397336006165, 0.8871999979019165], type: <class 'list'>\n"
     ]
    }
   ],
   "source": [
    "hist = tokenizer_train(model, name)"
   ]
  },
  {
   "cell_type": "code",
   "execution_count": 15,
   "id": "1cc2a20b-3939-48ab-a025-a7311bc41e13",
   "metadata": {},
   "outputs": [
    {
     "data": {
      "image/png": "[encoded data removed]",
      "text/plain": [
       "<Figure size 576x576 with 3 Axes>"
      ]
     },
     "metadata": {
      "needs_background": "light"
     },
     "output_type": "display_data"
    }
   ],
   "source": [
    "fig, axs = plt.subplots(3, 1, figsize=(8,8), tight_layout=True)\n",
    "    \n",
    "axs[0].plot(hist.history['loss'])\n",
    "axs[0].plot(hist.history['val_loss'])\n",
    "axs[0].set_title('binary_crossentropy Loss')\n",
    "axs[0].set_ylabel('Loss')\n",
    "axs[0].set_xlabel('Epoch')\n",
    "axs[0].legend(['train', 'val'], loc='upper right')\n",
    "\n",
    "axs[1].plot(hist.history['binary_accuracy'])\n",
    "axs[1].plot(hist.history['val_binary_accuracy'])\n",
    "axs[1].set_title('binary_accuracy Metric')\n",
    "axs[1].set_ylabel('Error')\n",
    "axs[1].set_xlabel('Epoch')\n",
    "axs[1].legend(['train', 'val'], loc='upper left')\n",
    "\n",
    "axs[2].plot(hist.history['lr'])\n",
    "axs[2].set_title('Learining Rate')\n",
    "axs[2].set_ylabel('LR')\n",
    "axs[2].set_xlabel('Epoch')\n",
    "plt.savefig(f'/kaggle/working/{name}_graphs.png')\n",
    "plt.show()"
   ]
  },
  {
   "cell_type": "code",
   "execution_count": 16,
   "id": "5ff7f30c-b216-4eb2-9360-4297a9eb61d6",
   "metadata": {},
   "outputs": [
    {
     "name": "stderr",
     "output_type": "stream",
     "text": [
      "E:\\anaconda_neve\\envs\\amls2\\lib\\site-packages\\bs4\\__init__.py:439: MarkupResemblesLocatorWarning: The input looks more like a filename than markup. You may want to open this file and pass the filehandle into Beautiful Soup.\n",
      "  MarkupResemblesLocatorWarning\n"
     ]
    },
    {
     "data": {
      "text/html": [
       "<div>\n",
       "<style scoped>\n",
       "    .dataframe tbody tr th:only-of-type {\n",
       "        vertical-align: middle;\n",
       "    }\n",
       "\n",
       "    .dataframe tbody tr th {\n",
       "        vertical-align: top;\n",
       "    }\n",
       "\n",
       "    .dataframe thead th {\n",
       "        text-align: right;\n",
       "    }\n",
       "</style>\n",
       "<table border=\"1\" class=\"dataframe\">\n",
       "  <thead>\n",
       "    <tr style=\"text-align: right;\">\n",
       "      <th></th>\n",
       "      <th>id</th>\n",
       "      <th>review</th>\n",
       "      <th>cleaned_review</th>\n",
       "    </tr>\n",
       "  </thead>\n",
       "  <tbody>\n",
       "    <tr>\n",
       "      <th>0</th>\n",
       "      <td>\"12311_10\"</td>\n",
       "      <td>\"Naturally in a film who's main themes are of ...</td>\n",
       "      <td>naturally film main themes mortality nostalgia...</td>\n",
       "    </tr>\n",
       "    <tr>\n",
       "      <th>1</th>\n",
       "      <td>\"8348_2\"</td>\n",
       "      <td>\"This movie is a disaster within a disaster fi...</td>\n",
       "      <td>movie disaster within disaster film full great...</td>\n",
       "    </tr>\n",
       "    <tr>\n",
       "      <th>2</th>\n",
       "      <td>\"5828_4\"</td>\n",
       "      <td>\"All in all, this is a movie for kids. We saw ...</td>\n",
       "      <td>movie kids saw tonight child loved one point k...</td>\n",
       "    </tr>\n",
       "    <tr>\n",
       "      <th>3</th>\n",
       "      <td>\"7186_2\"</td>\n",
       "      <td>\"Afraid of the Dark left me with the impressio...</td>\n",
       "      <td>afraid dark left impression several different ...</td>\n",
       "    </tr>\n",
       "    <tr>\n",
       "      <th>4</th>\n",
       "      <td>\"12128_7\"</td>\n",
       "      <td>\"A very accurate depiction of small time mob l...</td>\n",
       "      <td>accurate depiction small time mob life filmed ...</td>\n",
       "    </tr>\n",
       "    <tr>\n",
       "      <th>...</th>\n",
       "      <td>...</td>\n",
       "      <td>...</td>\n",
       "      <td>...</td>\n",
       "    </tr>\n",
       "    <tr>\n",
       "      <th>24995</th>\n",
       "      <td>\"2155_10\"</td>\n",
       "      <td>\"Sony Pictures Classics, I'm looking at you! S...</td>\n",
       "      <td>sony pictures classics looking sony got rights...</td>\n",
       "    </tr>\n",
       "    <tr>\n",
       "      <th>24996</th>\n",
       "      <td>\"59_10\"</td>\n",
       "      <td>\"I always felt that Ms. Merkerson had never go...</td>\n",
       "      <td>always felt ms merkerson never gotten role fit...</td>\n",
       "    </tr>\n",
       "    <tr>\n",
       "      <th>24997</th>\n",
       "      <td>\"2531_1\"</td>\n",
       "      <td>\"I was so disappointed in this movie. I am ver...</td>\n",
       "      <td>disappointed movie familiar case read mark fuh...</td>\n",
       "    </tr>\n",
       "    <tr>\n",
       "      <th>24998</th>\n",
       "      <td>\"7772_8\"</td>\n",
       "      <td>\"From the opening sequence, filled with black ...</td>\n",
       "      <td>opening sequence filled black white shots remi...</td>\n",
       "    </tr>\n",
       "    <tr>\n",
       "      <th>24999</th>\n",
       "      <td>\"11465_10\"</td>\n",
       "      <td>\"This is a great horror film for people who do...</td>\n",
       "      <td>great horror film people want vomit retching g...</td>\n",
       "    </tr>\n",
       "  </tbody>\n",
       "</table>\n",
       "<p>25000 rows × 3 columns</p>\n",
       "</div>"
      ],
      "text/plain": [
       "               id                                             review  \\\n",
       "0      \"12311_10\"  \"Naturally in a film who's main themes are of ...   \n",
       "1        \"8348_2\"  \"This movie is a disaster within a disaster fi...   \n",
       "2        \"5828_4\"  \"All in all, this is a movie for kids. We saw ...   \n",
       "3        \"7186_2\"  \"Afraid of the Dark left me with the impressio...   \n",
       "4       \"12128_7\"  \"A very accurate depiction of small time mob l...   \n",
       "...           ...                                                ...   \n",
       "24995   \"2155_10\"  \"Sony Pictures Classics, I'm looking at you! S...   \n",
       "24996     \"59_10\"  \"I always felt that Ms. Merkerson had never go...   \n",
       "24997    \"2531_1\"  \"I was so disappointed in this movie. I am ver...   \n",
       "24998    \"7772_8\"  \"From the opening sequence, filled with black ...   \n",
       "24999  \"11465_10\"  \"This is a great horror film for people who do...   \n",
       "\n",
       "                                          cleaned_review  \n",
       "0      naturally film main themes mortality nostalgia...  \n",
       "1      movie disaster within disaster film full great...  \n",
       "2      movie kids saw tonight child loved one point k...  \n",
       "3      afraid dark left impression several different ...  \n",
       "4      accurate depiction small time mob life filmed ...  \n",
       "...                                                  ...  \n",
       "24995  sony pictures classics looking sony got rights...  \n",
       "24996  always felt ms merkerson never gotten role fit...  \n",
       "24997  disappointed movie familiar case read mark fuh...  \n",
       "24998  opening sequence filled black white shots remi...  \n",
       "24999  great horror film people want vomit retching g...  \n",
       "\n",
       "[25000 rows x 3 columns]"
      ]
     },
     "execution_count": 16,
     "metadata": {},
     "output_type": "execute_result"
    }
   ],
   "source": [
    "test[\"cleaned_review\"] = test[\"review\"].apply(clean)\n",
    "test"
   ]
  },
  {
   "cell_type": "code",
   "execution_count": 17,
   "id": "f60f0105-bca7-4caf-9512-18f6b953eb7a",
   "metadata": {},
   "outputs": [
    {
     "name": "stdout",
     "output_type": "stream",
     "text": [
      "(25000, 1322)\n"
     ]
    }
   ],
   "source": [
    "sequences = tokenizer.texts_to_sequences(test.cleaned_review)\n",
    "test_sequences = np.array(pad_sequences(sequences, maxlen=max_sequence_len, padding='pre'))\n",
    "print(test_sequences.shape)"
   ]
  },
  {
   "cell_type": "code",
   "execution_count": 18,
   "id": "a4cdeb18-181b-464b-b48a-a2e4e216a4a1",
   "metadata": {},
   "outputs": [
    {
     "name": "stdout",
     "output_type": "stream",
     "text": [
      "WARNING:tensorflow:Model was constructed with shape (None, 1321) for input KerasTensor(type_spec=TensorSpec(shape=(None, 1321), dtype=tf.float32, name='embedding_input'), name='embedding_input', description=\"created by layer 'embedding_input'\"), but it was called on an input with incompatible shape (None, 1322).\n"
     ]
    },
    {
     "name": "stderr",
     "output_type": "stream",
     "text": [
      "WARNING:tensorflow:Model was constructed with shape (None, 1321) for input KerasTensor(type_spec=TensorSpec(shape=(None, 1321), dtype=tf.float32, name='embedding_input'), name='embedding_input', description=\"created by layer 'embedding_input'\"), but it was called on an input with incompatible shape (None, 1322).\n"
     ]
    }
   ],
   "source": [
    "predictions = model.predict(test_sequences).flatten()"
   ]
  },
  {
   "cell_type": "code",
   "execution_count": 19,
   "id": "7b54f396-7f96-43d1-968b-c4442743feda",
   "metadata": {},
   "outputs": [],
   "source": [
    "avg= model.predict(test_sequences)"
   ]
  },
  {
   "cell_type": "code",
   "execution_count": null,
   "id": "994d199c-ccd1-48db-95f1-49cba59f10c2",
   "metadata": {},
   "outputs": [],
   "source": []
  },
  {
   "cell_type": "code",
   "execution_count": 20,
   "id": "2cf21004-b223-456d-95d3-9978bf1e0367",
   "metadata": {},
   "outputs": [
    {
     "data": {
      "text/plain": [
       "(25000,)"
      ]
     },
     "execution_count": 20,
     "metadata": {},
     "output_type": "execute_result"
    }
   ],
   "source": [
    "predictions.shape"
   ]
  },
  {
   "cell_type": "code",
   "execution_count": 21,
   "id": "f7532066-7071-4662-835a-26c044f41051",
   "metadata": {},
   "outputs": [
    {
     "data": {
      "text/plain": [
       "array([0.9841421 , 0.02481287, 0.37289768, ..., 0.04107993, 0.9758302 ,\n",
       "       0.05168523], dtype=float32)"
      ]
     },
     "execution_count": 21,
     "metadata": {},
     "output_type": "execute_result"
    }
   ],
   "source": [
    "predictions"
   ]
  },
  {
   "cell_type": "code",
   "execution_count": 22,
   "id": "21c89e76-9494-461c-82e2-61b57e444cdb",
   "metadata": {},
   "outputs": [],
   "source": [
    "output = pd.DataFrame(data={\"id\":test.id, \"sentiment\":predictions})\n",
    "output.to_csv(\"word_tokenization_model.csv\", index=False, quoting=3)"
   ]
  },
  {
   "cell_type": "code",
   "execution_count": 26,
   "id": "f1470db8-3353-4f22-a4b1-052a091454fb",
   "metadata": {},
   "outputs": [
    {
     "name": "stdout",
     "output_type": "stream",
     "text": [
      "0.79928\n"
     ]
    }
   ],
   "source": [
    "#准确率的函数\n",
    "def classified_correct(model, i):\n",
    "    return (model[\"sentiment\"][i] <0.2 and int(model[\"id\"][i].split(\"_\")[1]) <= 5) or \\\n",
    "           (model[\"sentiment\"][i] >= 0.8 and int(model[\"id\"][i].split(\"_\")[1]) > 5)\n",
    "\n",
    "model = pd.read_csv(\"word_tokenization_model.csv\");\n",
    "correct = np.array([classified_correct(model,i) for i in range(model.shape[0])])\n",
    "print(correct.sum() / model.shape[0]) # the accuracy"
   ]
  },
  {
   "cell_type": "code",
   "execution_count": 24,
   "id": "f1a5352d-ef4c-4200-9f5f-6c0e7ce30787",
   "metadata": {},
   "outputs": [
    {
     "data": {
      "text/plain": [
       "array([[0.9841421 ],\n",
       "       [0.02481287],\n",
       "       [0.37289768],\n",
       "       ...,\n",
       "       [0.04107993],\n",
       "       [0.9758302 ],\n",
       "       [0.05168523]], dtype=float32)"
      ]
     },
     "execution_count": 24,
     "metadata": {},
     "output_type": "execute_result"
    }
   ],
   "source": [
    "avg"
   ]
  },
  {
   "cell_type": "code",
   "execution_count": null,
   "id": "151f2ef9-91b9-45d8-bbe1-175b98e65958",
   "metadata": {},
   "outputs": [],
   "source": []
  }
 ],
 "metadata": {
  "kernelspec": {
   "display_name": "Python 3",
   "language": "python",
   "name": "python3"
  },
  "language_info": {
   "codemirror_mode": {
    "name": "ipython",
    "version": 3
   },
   "file_extension": ".py",
   "mimetype": "text/x-python",
   "name": "python",
   "nbconvert_exporter": "python",
   "pygments_lexer": "ipython3",
   "version": "3.6.13"
  }
 },
 "nbformat": 4,
 "nbformat_minor": 5
}
